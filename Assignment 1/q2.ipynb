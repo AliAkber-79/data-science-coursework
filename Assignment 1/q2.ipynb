{
 "cells": [
  {
   "cell_type": "code",
   "execution_count": 240,
   "metadata": {},
   "outputs": [],
   "source": [
    "#imports\n",
    "import numpy as np\n",
    "import matplotlib.pyplot as plt"
   ]
  },
  {
   "cell_type": "code",
   "execution_count": 241,
   "metadata": {},
   "outputs": [
    {
     "name": "stdout",
     "output_type": "stream",
     "text": [
      "[399900 329900 369000 232000 539900 299900 314900 198999 212000 242500\n",
      " 239999 347000 329999 699900 259900 449900 299900 199900 499998 599000\n",
      " 252900 255000 242900 259900 573900 249900 464500 469000 475000 299900\n",
      " 349900 169900 314900 579900 285900 249900 229900 345000 549000 287000\n",
      " 368500 329900 314000 299000 179900 299900 239500]\n"
     ]
    }
   ],
   "source": [
    "# Read Data from file\n",
    "listX1= []\n",
    "listX2= []\n",
    "listY= []\n",
    "with open('ex1data2.txt','r') as data:\n",
    "    for line in data:\n",
    "        arr=line.split(\",\")\n",
    "        listX1.append(int(arr[0]))\n",
    "        listX2.append(int(arr[1]))\n",
    "        listY.append(int(arr[2]))\n",
    "np_listX1=np.array(listX1)\n",
    "np_listX2=np.array(listX2)\n",
    "np_listY=np.array(listY)\n",
    "print(np_listY)"
   ]
  },
  {
   "cell_type": "code",
   "execution_count": 1,
   "metadata": {},
   "outputs": [],
   "source": [
    "#cost function\n",
    "def cost_function(X,theta,Y):\n",
    "    m = len(Y)\n",
    "    J = (1/(2 * m))*np.sum(((np.dot(theta,X)) - Y) ** 2) \n",
    "    return J\n"
   ]
  },
  {
   "cell_type": "markdown",
   "metadata": {},
   "source": [
    "## Gradient Descent Algorithm for Multivariate Linear Regression"
   ]
  },
  {
   "cell_type": "code",
   "execution_count": 243,
   "metadata": {},
   "outputs": [],
   "source": [
    "#gradient descent()\n",
    "def GDA(theta,x,y,lrate):\n",
    "    a= np.sum((np.dot(x,theta)-y)*x)\n",
    "    theeta= theta-(lrate/len(y))*(a)\n",
    "    return theeta"
   ]
  },
  {
   "cell_type": "code",
   "execution_count": 244,
   "metadata": {},
   "outputs": [
    {
     "data": {
      "text/plain": [
       "[<matplotlib.lines.Line2D at 0x266dcca6b38>]"
      ]
     },
     "execution_count": 244,
     "metadata": {},
     "output_type": "execute_result"
    },
    {
     "data": {
      "image/png": "[encoded data removed]",
      "text/plain": [
       "<Figure size 432x288 with 1 Axes>"
      ]
     },
     "metadata": {
      "needs_background": "light"
     },
     "output_type": "display_data"
    }
   ],
   "source": [
    "#Feature Normalization\n",
    "meanX1= np.mean(np_listX1)\n",
    "meanX2= np.mean(np_listX2)\n",
    "stdX1= np.std(np_listX1)\n",
    "np_listX0= np.ones(len(np_listX2))\n",
    "np_X_normal= np.c_[np_listX0, np_listX1]\n",
    "np_X_normal= (np.c_[np_X_normal,np_listX2]).T\n",
    "stdX2= np.std(np_listX2)\n",
    "np_listX1= (np_listX1 - meanX1)/stdX1\n",
    "np_listX2= (np_listX2 - meanX2)/stdX2\n",
    "np.set_printoptions(suppress=True)\n",
    "np_X= np.c_[np_listX0, np_listX1]\n",
    "np_X= (np.c_[np_X,np_listX2]).T\n",
    "np_theeta= np.zeros(np_X.shape[0]);\n",
    "lrate= 0.095\n",
    "iterations=0\n",
    "#Plot customization\n",
    "plt.xlabel(\"Number of iterations\")\n",
    "plt.ylabel(\"Cost (J)  \")\n",
    "plt.xlim(0,50)\n",
    "plt.xticks(list(range(0,55,5)))\n",
    "plt.ylim(0,7*10**10)\n",
    "plt.yticks(list(range(0,8*10**10,10**10)))\n",
    "x_ax=[]\n",
    "y_ax=[]\n",
    "\n",
    "#Running GDA for 50 iterations with learning rate at 0.095\n",
    "while(iterations<50):\n",
    "    J1=cost_function(np_X,np_theeta,np_listY)\n",
    "    for i in range(np_X.shape[0]):\n",
    "        np_theeta[i]=GDA(np_theeta[i],np_X[i],np_listY,lrate)\n",
    "    x_ax.append(iterations)\n",
    "    y_ax.append(J1)\n",
    "    iterations=iterations+1\n",
    "plt.plot(x_ax,y_ax)"
   ]
  },
  {
   "cell_type": "code",
   "execution_count": 245,
   "metadata": {},
   "outputs": [
    {
     "name": "stdout",
     "output_type": "stream",
     "text": [
      "278958.36519056855\n"
     ]
    }
   ],
   "source": [
    "#Predict price of house with area =1650 (x1)and 3 bedrooms(x2) with x0 =1 (for theeta 0)\n",
    "\n",
    "#feature scaling\n",
    "x1= (1650-meanX1)/stdX1\n",
    "x2= (3-meanX2)/stdX2\n",
    "print(np_theeta.dot([1,x1,x2]))# with scaling features"
   ]
  },
  {
   "cell_type": "code",
   "execution_count": 246,
   "metadata": {},
   "outputs": [
    {
     "data": {
      "text/plain": [
       "293081.46433489426"
      ]
     },
     "execution_count": 246,
     "metadata": {},
     "output_type": "execute_result"
    }
   ],
   "source": [
    "#Solving using Normal Equations for theta value\n",
    "a=np_X_normal.dot(np_X_normal.T)\n",
    "a_inv= np.linalg.inv(a)\n",
    "np_theeta_normal=a_inv.dot(np_X_normal)\n",
    "np_theeta_normal= np_theeta_normal.dot(np_listY)\n",
    "\n",
    "np_theeta_normal.dot([1,1650,3])"
   ]
  }
 ],
 "metadata": {
  "kernelspec": {
   "display_name": "Python 3",
   "language": "python",
   "name": "python3"
  },
  "language_info": {
   "codemirror_mode": {
    "name": "ipython",
    "version": 3
   },
   "file_extension": ".py",
   "mimetype": "text/x-python",
   "name": "python",
   "nbconvert_exporter": "python",
   "pygments_lexer": "ipython3",
   "version": "3.7.1"
  }
 },
 "nbformat": 4,
 "nbformat_minor": 2
}
