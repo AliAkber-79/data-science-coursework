{
 "cells": [
  {
   "cell_type": "code",
   "execution_count": 1,
   "metadata": {},
   "outputs": [
    {
     "name": "stdout",
     "output_type": "stream",
     "text": [
      "scrumptious\n",
      "sizzling\n",
      "super\n",
      "SWEET.\n"
     ]
    }
   ],
   "source": [
    "#Q1\n",
    "input_str = \"That pie looks scrumptious and sizzling and super and SWEET.\"\n",
    "x = input_str.split()\n",
    "for a in x :\n",
    "    if a[0] == 'S' or a[0] == 's' :\n",
    "        print(a)\n",
    "    "
   ]
  },
  {
   "cell_type": "code",
   "execution_count": 2,
   "metadata": {},
   "outputs": [
    {
     "name": "stdout",
     "output_type": "stream",
     "text": [
      "[0, 2, 4, 6, 8, 10]\n"
     ]
    }
   ],
   "source": [
    "#Q2\n",
    "ever_nos = list(range(0,11,2))\n",
    "print(ever_nos)"
   ]
  },
  {
   "cell_type": "code",
   "execution_count": 3,
   "metadata": {},
   "outputs": [
    {
     "name": "stdout",
     "output_type": "stream",
     "text": [
      "[3, 6, 9, 12, 15, 18, 21, 24, 27, 30, 33, 36, 39, 42, 45, 48]\n"
     ]
    }
   ],
   "source": [
    "#Q3\n",
    "divisible_by_three = [i for i in range(1,50) if i%3 == 0 ]\n",
    "print(divisible_by_three)"
   ]
  },
  {
   "cell_type": "code",
   "execution_count": 4,
   "metadata": {},
   "outputs": [
    {
     "name": "stdout",
     "output_type": "stream",
     "text": [
      "No. of Uppercase characters: 4\n",
      "No. of Lowercase characters: 33\n"
     ]
    }
   ],
   "source": [
    "#Q4\n",
    "def foo(str1):\n",
    "    upper_case = 0\n",
    "    lower_case = 0\n",
    "    for x in str1:\n",
    "        if(x.isupper()):\n",
    "            upper_case= upper_case + 1\n",
    "        elif(x.islower()):\n",
    "            lower_case= lower_case + 1\n",
    "    print(\"No. of Uppercase characters: \"+ str(upper_case))\n",
    "    print(\"No. of Lowercase characters: \"+ str(lower_case))\n",
    "\n",
    "foo(\"Hello Mr. Rogers, how are you this fine Tuesday?\")\n"
   ]
  },
  {
   "cell_type": "code",
   "execution_count": 5,
   "metadata": {},
   "outputs": [
    {
     "name": "stdout",
     "output_type": "stream",
     "text": [
      "1\n",
      "2\n",
      "Fizz\n",
      "4\n",
      "Buzz\n",
      "Fizz\n",
      "7\n",
      "8\n",
      "Fizz\n",
      "Buzz\n",
      "11\n",
      "Fizz\n",
      "13\n",
      "14\n",
      "FizzBuzz\n",
      "16\n",
      "17\n",
      "Fizz\n",
      "19\n",
      "Buzz\n",
      "Fizz\n",
      "22\n",
      "23\n",
      "Fizz\n",
      "Buzz\n",
      "26\n",
      "Fizz\n",
      "28\n",
      "29\n",
      "FizzBuzz\n",
      "31\n",
      "32\n",
      "Fizz\n",
      "34\n",
      "Buzz\n",
      "Fizz\n",
      "37\n",
      "38\n",
      "Fizz\n",
      "Buzz\n",
      "41\n",
      "Fizz\n",
      "43\n",
      "44\n",
      "FizzBuzz\n",
      "46\n",
      "47\n",
      "Fizz\n",
      "49\n",
      "Buzz\n",
      "Fizz\n",
      "52\n",
      "53\n",
      "Fizz\n",
      "Buzz\n",
      "56\n",
      "Fizz\n",
      "58\n",
      "59\n",
      "FizzBuzz\n",
      "61\n",
      "62\n",
      "Fizz\n",
      "64\n",
      "Buzz\n",
      "Fizz\n",
      "67\n",
      "68\n",
      "Fizz\n",
      "Buzz\n",
      "71\n",
      "Fizz\n",
      "73\n",
      "74\n",
      "FizzBuzz\n",
      "76\n",
      "77\n",
      "Fizz\n",
      "79\n",
      "Buzz\n",
      "Fizz\n",
      "82\n",
      "83\n",
      "Fizz\n",
      "Buzz\n",
      "86\n",
      "Fizz\n",
      "88\n",
      "89\n",
      "FizzBuzz\n",
      "91\n",
      "92\n",
      "Fizz\n",
      "94\n",
      "Buzz\n",
      "Fizz\n",
      "97\n",
      "98\n",
      "Fizz\n",
      "Buzz\n"
     ]
    }
   ],
   "source": [
    "#Q5\n",
    "\n",
    "for x in range(1,101):    \n",
    "    if(x%3 == 0 and x%5 == 0):\n",
    "        print(\"FizzBuzz\")\n",
    "    elif(x%3 == 0):\n",
    "        print(\"Fizz\")\n",
    "    elif(x%5 == 0):\n",
    "        print(\"Buzz\")\n",
    "    else:\n",
    "        print(x)\n",
    "        \n",
    "        "
   ]
  },
  {
   "cell_type": "code",
   "execution_count": 6,
   "metadata": {},
   "outputs": [
    {
     "name": "stdout",
     "output_type": "stream",
     "text": [
      "['C', 'a', 'l', 'o', 't', 'f', 'l', 'o', 'e', 'w', 'i', 't', 's']\n"
     ]
    }
   ],
   "source": [
    "#Q6\n",
    "str2 = 'Create a list of the first letters of every word in this string'\n",
    "str3 = str2.split()\n",
    "str4 = [x[0] for x in str3  ]\n",
    "print(str4)"
   ]
  },
  {
   "cell_type": "code",
   "execution_count": 7,
   "metadata": {},
   "outputs": [
    {
     "name": "stdout",
     "output_type": "stream",
     "text": [
      "olleh\n"
     ]
    }
   ],
   "source": [
    "#Q7\n",
    "str5 = \"hello\"\n",
    "reverse_str5 = str5[-1:-6:-1]\n",
    "print(reverse_str5)"
   ]
  },
  {
   "cell_type": "code",
   "execution_count": 8,
   "metadata": {},
   "outputs": [
    {
     "name": "stdout",
     "output_type": "stream",
     "text": [
      "hello\n",
      "hello\n",
      "hello\n"
     ]
    }
   ],
   "source": [
    "#Q8\n",
    "d1 = {'simple_key':'hello'}\n",
    "d2 = {'k1':{'k2':'hello'}}\n",
    "d3 = {'k1':[{'nest_key':['this is deep',['hello']]}]}\n",
    "\n",
    "h1 = d1[\"simple_key\"]\n",
    "h2 = d2[\"k1\"][\"k2\"]\n",
    "h3 = d3[\"k1\"][0][\"nest_key\"][1][0]\n",
    "\n",
    "print(h1)\n",
    "print(h2)\n",
    "print(h3)"
   ]
  },
  {
   "cell_type": "code",
   "execution_count": null,
   "metadata": {},
   "outputs": [],
   "source": [
    "#Q9\n",
    "import Calculator as clctr\n",
    "\n",
    "x = clctr.Calculator()\n",
    "a = input(\"Enter first number: \")\n",
    "b = input(\"Enter second number: \")\n",
    "\n",
    "tup1=(int(a),int(b))\n",
    "end= False\n",
    "while(not end):\n",
    "    Input = input(\"\\nEnter A for Addition,\\nS for subtraction,\\nM for multiplication,\\nP for Power,\\nor D for Division\\nor Q to Quit\")\n",
    "    if(Input == 'A'):\n",
    "        print(x.Addition(tup1))\n",
    "    if(Input == 'S'):\n",
    "        print(x.Subtraction(tup1))\n",
    "    if(Input == 'M'):\n",
    "        print(x.Multiplication(tup1))\n",
    "    if(Input == 'D'):\n",
    "        print(x.Division(tup1))\n",
    "    if(Input == 'P'):\n",
    "        print(x.Power(tup1))\n",
    "    if(Input == 'Q'):\n",
    "        end=True"
   ]
  },
  {
   "cell_type": "code",
   "execution_count": null,
   "metadata": {},
   "outputs": [],
   "source": [
    "#Q10\n",
    "def gen_squares(N):\n",
    "    squares = [i*i for i in range(N)]\n",
    "    return squares\n",
    "\n",
    "for x in gen_squares(10):\n",
    "    print (x)\n"
   ]
  },
  {
   "cell_type": "code",
   "execution_count": null,
   "metadata": {},
   "outputs": [],
   "source": []
  }
 ],
 "metadata": {
  "kernelspec": {
   "display_name": "Python 3",
   "language": "python",
   "name": "python3"
  },
  "language_info": {
   "codemirror_mode": {
    "name": "ipython",
    "version": 3
   },
   "file_extension": ".py",
   "mimetype": "text/x-python",
   "name": "python",
   "nbconvert_exporter": "python",
   "pygments_lexer": "ipython3",
   "version": "3.7.1"
  }
 },
 "nbformat": 4,
 "nbformat_minor": 2
}
